{
 "cells": [
  {
   "cell_type": "code",
   "execution_count": 218,
   "id": "bd86ebdf",
   "metadata": {},
   "outputs": [],
   "source": [
    "import torch"
   ]
  },
  {
   "cell_type": "code",
   "execution_count": 219,
   "id": "3444a997",
   "metadata": {},
   "outputs": [],
   "source": [
    "# X matrisini tanımlayım\n",
    "X = [[1, 2, 3], [4, 5, 6]]"
   ]
  },
  {
   "cell_type": "code",
   "execution_count": 220,
   "id": "09081865",
   "metadata": {},
   "outputs": [],
   "source": [
    "# X matrisini bir PyTorch Tensor nesnesine dönüştürün\n",
    "tensor_X = torch.tensor(X)"
   ]
  },
  {
   "cell_type": "code",
   "execution_count": 221,
   "id": "e01872ca",
   "metadata": {},
   "outputs": [],
   "source": [
    "# Modeli tanımlayın\n",
    "inputSize = 3\n",
    "hiddenSize = 50\n",
    "outputSize = 1\n",
    "\n",
    "W1 = torch.randn(hiddenSize, inputSize)\n",
    "b1 = torch.randn(hiddenSize, 1)\n",
    "W2 = torch.randn(outputSize, hiddenSize)\n",
    "b2 = torch.randn(outputSize, 1)\n",
    "\n",
    "# custom bir seed değeri girelim \n",
    "\n",
    "torch.manual_seed(190401064)"
   ]
  },
  {
   "cell_type": "code",
   "execution_count": 222,
   "id": "9b8ce94e",
   "metadata": {},
   "outputs": [],
   "source": [
    "# Tanh aktivasyon fonksiyonu\n",
    "def tanh(x):\n",
    "     return (torch.exp(x) - torch.exp(-x)) / (torch.exp(x) + torch.exp(-x))\n",
    "\n"
   ]
  },
  {
   "cell_type": "code",
   "execution_count": 223,
   "id": "21a9a9bd",
   "metadata": {},
   "outputs": [],
   "source": [
    "# Sigmoid aktivasyon fonksiyonu\n",
    "def sigmoid(x):\n",
    "    return 1 / (1 + torch.exp(-x))\n"
   ]
  },
  {
   "cell_type": "code",
   "execution_count": 224,
   "id": "24cbe49b",
   "metadata": {},
   "outputs": [
    {
     "name": "stdout",
     "output_type": "stream",
     "text": [
      "tensor([[1.0000, 0.9997]])\n",
      "tensor([[1.0000, 0.9997]])\n"
     ]
    }
   ],
   "source": [
    "# Forward propagation işlemi\n",
    "Z1 = torch.matmul(W1, tensor_X.transpose(0, 1).float()) + b1\n",
    "A1 = tanh(Z1)\n",
    "Z2 = torch.matmul(W2, A1) + b2\n",
    "A2 = sigmoid(Z2)\n",
    "# Sonucu yazdırın\n",
    "print(A2)\n",
    "\n",
    "# torch fonksiyonuyla deneyerek cevabın sağlamasını yapalım.\n",
    "\n",
    "torch.manual_seed(190401064)\n",
    "A1 =torch.tanh(A1)\n",
    "Z2 = torch.matmul(W2, A1) + b2\n",
    "A2 = torch.sigmoid(Z2)\n",
    "print(A2)"
   ]
  },
  {
   "cell_type": "code",
   "execution_count": null,
   "id": "6e916c5c",
   "metadata": {},
   "outputs": [],
   "source": []
  }
 ],
 "metadata": {
  "kernelspec": {
   "display_name": "Python 3 (ipykernel)",
   "language": "python",
   "name": "python3"
  },
  "language_info": {
   "codemirror_mode": {
    "name": "ipython",
    "version": 3
   },
   "file_extension": ".py",
   "mimetype": "text/x-python",
   "name": "python",
   "nbconvert_exporter": "python",
   "pygments_lexer": "ipython3",
   "version": "3.10.6"
  }
 },
 "nbformat": 4,
 "nbformat_minor": 5
}
