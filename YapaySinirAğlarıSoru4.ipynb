{
 "cells": [
  {
   "cell_type": "code",
   "execution_count": 1,
   "id": "85869adb",
   "metadata": {},
   "outputs": [],
   "source": [
    "import torch"
   ]
  },
  {
   "cell_type": "code",
   "execution_count": 2,
   "id": "e6f9553c",
   "metadata": {},
   "outputs": [],
   "source": [
    "X = torch.tensor([[1, 2, 3], [4, 5, 6]], dtype=torch.float)\n"
   ]
  },
  {
   "cell_type": "code",
   "execution_count": null,
   "id": "2910c614",
   "metadata": {},
   "outputs": [],
   "source": [
    "// completing the network "
   ]
  },
  {
   "cell_type": "code",
   "execution_count": 3,
   "id": "ecc57c84",
   "metadata": {},
   "outputs": [],
   "source": [
    "input_size = 3\n",
    "hidden_size = 50\n",
    "output_size = 1\n",
    "\n",
    "model = torch.nn.Sequential(\n",
    "          torch.nn.Linear(input_size, hidden_size),\n",
    "          torch.nn.Tanh(),\n",
    "          torch.nn.Linear(hidden_size, output_size),\n",
    "          torch.nn.Sigmoid())\n"
   ]
  },
  {
   "cell_type": "code",
   "execution_count": null,
   "id": "f5e7d3a3",
   "metadata": {},
   "outputs": [],
   "source": [
    "Ağa X matrisini vererek forward propagation işlemini gerçekleştiriyoruz"
   ]
  },
  {
   "cell_type": "code",
   "execution_count": 4,
   "id": "56a290cb",
   "metadata": {},
   "outputs": [
    {
     "name": "stdout",
     "output_type": "stream",
     "text": [
      "tensor([[0.4229],\n",
      "        [0.4647]], grad_fn=<SigmoidBackward0>)\n"
     ]
    }
   ],
   "source": [
    "y_pred = model(X)\n",
    "\n",
    "print(y_pred)"
   ]
  },
  {
   "cell_type": "code",
   "execution_count": null,
   "id": "5278a803",
   "metadata": {},
   "outputs": [],
   "source": []
  }
 ],
 "metadata": {
  "kernelspec": {
   "display_name": "Python 3 (ipykernel)",
   "language": "python",
   "name": "python3"
  },
  "language_info": {
   "codemirror_mode": {
    "name": "ipython",
    "version": 3
   },
   "file_extension": ".py",
   "mimetype": "text/x-python",
   "name": "python",
   "nbconvert_exporter": "python",
   "pygments_lexer": "ipython3",
   "version": "3.10.6"
  }
 },
 "nbformat": 4,
 "nbformat_minor": 5
}
