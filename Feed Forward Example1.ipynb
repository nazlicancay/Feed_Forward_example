{
 "cells": [
  {
   "cell_type": "code",
   "execution_count": 225,
   "id": "4bcfc093",
   "metadata": {},
   "outputs": [],
   "source": [
    "import torch"
   ]
  },
  {
   "cell_type": "code",
   "execution_count": 226,
   "id": "90461247",
   "metadata": {},
   "outputs": [],
   "source": [
    "# X matrisini tanımlayım\n",
    "X = [[1, 2, 3], [4, 5, 6]]"
   ]
  },
  {
   "cell_type": "code",
   "execution_count": 227,
   "id": "58feda91",
   "metadata": {},
   "outputs": [],
   "source": [
    "# X matrisini bir PyTorch Tensor nesnesine dönüştürün\n",
    "tensor_X = torch.tensor(X)"
   ]
  },
  {
   "cell_type": "code",
   "execution_count": 228,
   "id": "a11cac71",
   "metadata": {},
   "outputs": [
    {
     "data": {
      "text/plain": [
       "<torch._C.Generator at 0x1156d0210>"
      ]
     },
     "execution_count": 228,
     "metadata": {},
     "output_type": "execute_result"
    }
   ],
   "source": [
    "# Modeli tanımlayın\n",
    "inputSize = 3\n",
    "hiddenSize = 50\n",
    "outputSize = 1\n",
    "\n",
    "W1 = torch.randn(hiddenSize, inputSize)\n",
    "b1 = torch.randn(hiddenSize, 1)\n",
    "W2 = torch.randn(outputSize, hiddenSize)\n",
    "b2 = torch.randn(outputSize, 1)\n",
    "\n",
    "#  seed değerini 1 girelim \n",
    "\n",
    "torch.manual_seed(1)"
   ]
  },
  {
   "cell_type": "code",
   "execution_count": 229,
   "id": "24edad53",
   "metadata": {},
   "outputs": [],
   "source": [
    "# Tanh aktivasyon fonksiyonu\n",
    "def tanh(x):\n",
    "     return (torch.exp(x) - torch.exp(-x)) / (torch.exp(x) + torch.exp(-x))\n",
    "\n"
   ]
  },
  {
   "cell_type": "code",
   "execution_count": 230,
   "id": "1c45ff34",
   "metadata": {},
   "outputs": [],
   "source": [
    "# Sigmoid aktivasyon fonksiyonu\n",
    "def sigmoid(x):\n",
    "    return 1 / (1 + torch.exp(-x))\n"
   ]
  },
  {
   "cell_type": "code",
   "execution_count": 231,
   "id": "e1af81d0",
   "metadata": {},
   "outputs": [
    {
     "name": "stdout",
     "output_type": "stream",
     "text": [
      "tensor([[0.0312, 0.0075]])\n",
      "tensor([[0.0422, 0.0214]])\n"
     ]
    }
   ],
   "source": [
    "# Forward propagation işlemi\n",
    "Z1 = torch.matmul(W1, tensor_X.transpose(0, 1).float()) + b1\n",
    "A1 = tanh(Z1)\n",
    "Z2 = torch.matmul(W2, A1) + b2\n",
    "A2 = sigmoid(Z2)\n",
    "# Sonucu yazdırın\n",
    "print(A2)\n",
    "\n",
    "# torch fonksiyonuyla deneyerek cevabın sağlamasını yapalım.\n",
    "\n",
    "torch.manual_seed(1)\n",
    "A1 =torch.tanh(A1)\n",
    "Z2 = torch.matmul(W2, A1) + b2\n",
    "A2 = torch.sigmoid(Z2)\n",
    "print(A2)"
   ]
  },
  {
   "cell_type": "code",
   "execution_count": null,
   "id": "b382ca79",
   "metadata": {},
   "outputs": [],
   "source": []
  }
 ],
 "metadata": {
  "kernelspec": {
   "display_name": "Python 3 (ipykernel)",
   "language": "python",
   "name": "python3"
  },
  "language_info": {
   "codemirror_mode": {
    "name": "ipython",
    "version": 3
   },
   "file_extension": ".py",
   "mimetype": "text/x-python",
   "name": "python",
   "nbconvert_exporter": "python",
   "pygments_lexer": "ipython3",
   "version": "3.10.6"
  }
 },
 "nbformat": 4,
 "nbformat_minor": 5
}
